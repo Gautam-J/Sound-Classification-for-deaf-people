{
  "cells": [
    {
      "cell_type": "code",
      "execution_count": null,
      "metadata": {
        "id": "4Ymmi8rqRuDL"
      },
      "outputs": [],
      "source": [
        "import pandas as pd"
      ]
    },
    {
      "cell_type": "code",
      "execution_count": null,
      "metadata": {
        "id": "8kVlpxKIRuDS"
      },
      "outputs": [],
      "source": [
        "import tensorflow as tf"
      ]
    },
    {
      "cell_type": "code",
      "execution_count": null,
      "metadata": {
        "id": "Nv3gLX5URuDV",
        "outputId": "760cc836-0b24-4121-e1aa-970a04313fe8"
      },
      "outputs": [
        {
          "data": {
            "text/html": [
              "<div>\n",
              "<style scoped>\n",
              "    .dataframe tbody tr th:only-of-type {\n",
              "        vertical-align: middle;\n",
              "    }\n",
              "\n",
              "    .dataframe tbody tr th {\n",
              "        vertical-align: top;\n",
              "    }\n",
              "\n",
              "    .dataframe thead th {\n",
              "        text-align: right;\n",
              "    }\n",
              "</style>\n",
              "<table border=\"1\" class=\"dataframe\">\n",
              "  <thead>\n",
              "    <tr style=\"text-align: right;\">\n",
              "      <th></th>\n",
              "      <th>filename</th>\n",
              "      <th>fold</th>\n",
              "      <th>target</th>\n",
              "      <th>category</th>\n",
              "      <th>esc10</th>\n",
              "      <th>src_file</th>\n",
              "      <th>take</th>\n",
              "    </tr>\n",
              "  </thead>\n",
              "  <tbody>\n",
              "    <tr>\n",
              "      <th>0</th>\n",
              "      <td>1-100032-A-0.wav</td>\n",
              "      <td>1</td>\n",
              "      <td>0</td>\n",
              "      <td>dog</td>\n",
              "      <td>True</td>\n",
              "      <td>100032</td>\n",
              "      <td>A</td>\n",
              "    </tr>\n",
              "    <tr>\n",
              "      <th>1</th>\n",
              "      <td>1-100038-A-14.wav</td>\n",
              "      <td>1</td>\n",
              "      <td>14</td>\n",
              "      <td>chirping_birds</td>\n",
              "      <td>False</td>\n",
              "      <td>100038</td>\n",
              "      <td>A</td>\n",
              "    </tr>\n",
              "    <tr>\n",
              "      <th>2</th>\n",
              "      <td>1-100210-A-36.wav</td>\n",
              "      <td>1</td>\n",
              "      <td>36</td>\n",
              "      <td>vacuum_cleaner</td>\n",
              "      <td>False</td>\n",
              "      <td>100210</td>\n",
              "      <td>A</td>\n",
              "    </tr>\n",
              "    <tr>\n",
              "      <th>3</th>\n",
              "      <td>1-100210-B-36.wav</td>\n",
              "      <td>1</td>\n",
              "      <td>36</td>\n",
              "      <td>vacuum_cleaner</td>\n",
              "      <td>False</td>\n",
              "      <td>100210</td>\n",
              "      <td>B</td>\n",
              "    </tr>\n",
              "    <tr>\n",
              "      <th>4</th>\n",
              "      <td>1-101296-A-19.wav</td>\n",
              "      <td>1</td>\n",
              "      <td>19</td>\n",
              "      <td>thunderstorm</td>\n",
              "      <td>False</td>\n",
              "      <td>101296</td>\n",
              "      <td>A</td>\n",
              "    </tr>\n",
              "  </tbody>\n",
              "</table>\n",
              "</div>"
            ],
            "text/plain": [
              "            filename  fold  target        category  esc10  src_file take\n",
              "0   1-100032-A-0.wav     1       0             dog   True    100032    A\n",
              "1  1-100038-A-14.wav     1      14  chirping_birds  False    100038    A\n",
              "2  1-100210-A-36.wav     1      36  vacuum_cleaner  False    100210    A\n",
              "3  1-100210-B-36.wav     1      36  vacuum_cleaner  False    100210    B\n",
              "4  1-101296-A-19.wav     1      19    thunderstorm  False    101296    A"
            ]
          },
          "execution_count": 3,
          "metadata": {},
          "output_type": "execute_result"
        }
      ],
      "source": [
        "df = pd.read_csv(\"D:\\\\deep learning\\\\ESC-50-master\\\\meta\\\\esc50.csv\")\n",
        "df.head()"
      ]
    },
    {
      "cell_type": "code",
      "execution_count": null,
      "metadata": {
        "scrolled": true,
        "id": "fyv-TSlqRuDZ",
        "outputId": "966fa0e0-16e3-4e4c-aaae-07111104eee2"
      },
      "outputs": [
        {
          "data": {
            "text/html": [
              "<div>\n",
              "<style scoped>\n",
              "    .dataframe tbody tr th:only-of-type {\n",
              "        vertical-align: middle;\n",
              "    }\n",
              "\n",
              "    .dataframe tbody tr th {\n",
              "        vertical-align: top;\n",
              "    }\n",
              "\n",
              "    .dataframe thead th {\n",
              "        text-align: right;\n",
              "    }\n",
              "</style>\n",
              "<table border=\"1\" class=\"dataframe\">\n",
              "  <thead>\n",
              "    <tr style=\"text-align: right;\">\n",
              "      <th></th>\n",
              "      <th>filename</th>\n",
              "      <th>fold</th>\n",
              "      <th>target</th>\n",
              "      <th>category</th>\n",
              "      <th>esc10</th>\n",
              "      <th>src_file</th>\n",
              "      <th>take</th>\n",
              "    </tr>\n",
              "  </thead>\n",
              "  <tbody>\n",
              "    <tr>\n",
              "      <th>0</th>\n",
              "      <td>1-100032-A-0.wav</td>\n",
              "      <td>1</td>\n",
              "      <td>0</td>\n",
              "      <td>dog</td>\n",
              "      <td>True</td>\n",
              "      <td>100032</td>\n",
              "      <td>A</td>\n",
              "    </tr>\n",
              "    <tr>\n",
              "      <th>1</th>\n",
              "      <td>1-100038-A-14.wav</td>\n",
              "      <td>1</td>\n",
              "      <td>14</td>\n",
              "      <td>chirping_birds</td>\n",
              "      <td>False</td>\n",
              "      <td>100038</td>\n",
              "      <td>A</td>\n",
              "    </tr>\n",
              "    <tr>\n",
              "      <th>2</th>\n",
              "      <td>1-100210-A-36.wav</td>\n",
              "      <td>1</td>\n",
              "      <td>36</td>\n",
              "      <td>vacuum_cleaner</td>\n",
              "      <td>False</td>\n",
              "      <td>100210</td>\n",
              "      <td>A</td>\n",
              "    </tr>\n",
              "    <tr>\n",
              "      <th>3</th>\n",
              "      <td>1-100210-B-36.wav</td>\n",
              "      <td>1</td>\n",
              "      <td>36</td>\n",
              "      <td>vacuum_cleaner</td>\n",
              "      <td>False</td>\n",
              "      <td>100210</td>\n",
              "      <td>B</td>\n",
              "    </tr>\n",
              "    <tr>\n",
              "      <th>4</th>\n",
              "      <td>1-101296-A-19.wav</td>\n",
              "      <td>1</td>\n",
              "      <td>19</td>\n",
              "      <td>thunderstorm</td>\n",
              "      <td>False</td>\n",
              "      <td>101296</td>\n",
              "      <td>A</td>\n",
              "    </tr>\n",
              "    <tr>\n",
              "      <th>...</th>\n",
              "      <td>...</td>\n",
              "      <td>...</td>\n",
              "      <td>...</td>\n",
              "      <td>...</td>\n",
              "      <td>...</td>\n",
              "      <td>...</td>\n",
              "      <td>...</td>\n",
              "    </tr>\n",
              "    <tr>\n",
              "      <th>1995</th>\n",
              "      <td>5-263831-B-6.wav</td>\n",
              "      <td>5</td>\n",
              "      <td>6</td>\n",
              "      <td>hen</td>\n",
              "      <td>False</td>\n",
              "      <td>263831</td>\n",
              "      <td>B</td>\n",
              "    </tr>\n",
              "    <tr>\n",
              "      <th>1996</th>\n",
              "      <td>5-263902-A-36.wav</td>\n",
              "      <td>5</td>\n",
              "      <td>36</td>\n",
              "      <td>vacuum_cleaner</td>\n",
              "      <td>False</td>\n",
              "      <td>263902</td>\n",
              "      <td>A</td>\n",
              "    </tr>\n",
              "    <tr>\n",
              "      <th>1997</th>\n",
              "      <td>5-51149-A-25.wav</td>\n",
              "      <td>5</td>\n",
              "      <td>25</td>\n",
              "      <td>footsteps</td>\n",
              "      <td>False</td>\n",
              "      <td>51149</td>\n",
              "      <td>A</td>\n",
              "    </tr>\n",
              "    <tr>\n",
              "      <th>1998</th>\n",
              "      <td>5-61635-A-8.wav</td>\n",
              "      <td>5</td>\n",
              "      <td>8</td>\n",
              "      <td>sheep</td>\n",
              "      <td>False</td>\n",
              "      <td>61635</td>\n",
              "      <td>A</td>\n",
              "    </tr>\n",
              "    <tr>\n",
              "      <th>1999</th>\n",
              "      <td>5-9032-A-0.wav</td>\n",
              "      <td>5</td>\n",
              "      <td>0</td>\n",
              "      <td>dog</td>\n",
              "      <td>True</td>\n",
              "      <td>9032</td>\n",
              "      <td>A</td>\n",
              "    </tr>\n",
              "  </tbody>\n",
              "</table>\n",
              "<p>2000 rows × 7 columns</p>\n",
              "</div>"
            ],
            "text/plain": [
              "               filename  fold  target        category  esc10  src_file take\n",
              "0      1-100032-A-0.wav     1       0             dog   True    100032    A\n",
              "1     1-100038-A-14.wav     1      14  chirping_birds  False    100038    A\n",
              "2     1-100210-A-36.wav     1      36  vacuum_cleaner  False    100210    A\n",
              "3     1-100210-B-36.wav     1      36  vacuum_cleaner  False    100210    B\n",
              "4     1-101296-A-19.wav     1      19    thunderstorm  False    101296    A\n",
              "...                 ...   ...     ...             ...    ...       ...  ...\n",
              "1995   5-263831-B-6.wav     5       6             hen  False    263831    B\n",
              "1996  5-263902-A-36.wav     5      36  vacuum_cleaner  False    263902    A\n",
              "1997   5-51149-A-25.wav     5      25       footsteps  False     51149    A\n",
              "1998    5-61635-A-8.wav     5       8           sheep  False     61635    A\n",
              "1999     5-9032-A-0.wav     5       0             dog   True      9032    A\n",
              "\n",
              "[2000 rows x 7 columns]"
            ]
          },
          "execution_count": 4,
          "metadata": {},
          "output_type": "execute_result"
        }
      ],
      "source": [
        "df"
      ]
    },
    {
      "cell_type": "code",
      "execution_count": null,
      "metadata": {
        "id": "4Wc_v8z0RuD4"
      },
      "outputs": [],
      "source": [
        "df1=df.sort_values(by=\"target\")"
      ]
    },
    {
      "cell_type": "code",
      "execution_count": null,
      "metadata": {
        "scrolled": true,
        "id": "nKZ4lkP7RuD5",
        "outputId": "c06b194d-2b7d-4b96-ed5d-5be6235ac211"
      },
      "outputs": [
        {
          "data": {
            "text/html": [
              "<div>\n",
              "<style scoped>\n",
              "    .dataframe tbody tr th:only-of-type {\n",
              "        vertical-align: middle;\n",
              "    }\n",
              "\n",
              "    .dataframe tbody tr th {\n",
              "        vertical-align: top;\n",
              "    }\n",
              "\n",
              "    .dataframe thead th {\n",
              "        text-align: right;\n",
              "    }\n",
              "</style>\n",
              "<table border=\"1\" class=\"dataframe\">\n",
              "  <thead>\n",
              "    <tr style=\"text-align: right;\">\n",
              "      <th></th>\n",
              "      <th>filename</th>\n",
              "      <th>fold</th>\n",
              "      <th>target</th>\n",
              "      <th>category</th>\n",
              "      <th>esc10</th>\n",
              "      <th>src_file</th>\n",
              "      <th>take</th>\n",
              "    </tr>\n",
              "  </thead>\n",
              "  <tbody>\n",
              "    <tr>\n",
              "      <th>0</th>\n",
              "      <td>1-100032-A-0.wav</td>\n",
              "      <td>1</td>\n",
              "      <td>0</td>\n",
              "      <td>dog</td>\n",
              "      <td>True</td>\n",
              "      <td>100032</td>\n",
              "      <td>A</td>\n",
              "    </tr>\n",
              "    <tr>\n",
              "      <th>1031</th>\n",
              "      <td>3-155312-A-0.wav</td>\n",
              "      <td>3</td>\n",
              "      <td>0</td>\n",
              "      <td>dog</td>\n",
              "      <td>True</td>\n",
              "      <td>155312</td>\n",
              "      <td>A</td>\n",
              "    </tr>\n",
              "    <tr>\n",
              "      <th>954</th>\n",
              "      <td>3-144028-A-0.wav</td>\n",
              "      <td>3</td>\n",
              "      <td>0</td>\n",
              "      <td>dog</td>\n",
              "      <td>True</td>\n",
              "      <td>144028</td>\n",
              "      <td>A</td>\n",
              "    </tr>\n",
              "    <tr>\n",
              "      <th>923</th>\n",
              "      <td>3-136288-A-0.wav</td>\n",
              "      <td>3</td>\n",
              "      <td>0</td>\n",
              "      <td>dog</td>\n",
              "      <td>True</td>\n",
              "      <td>136288</td>\n",
              "      <td>A</td>\n",
              "    </tr>\n",
              "    <tr>\n",
              "      <th>522</th>\n",
              "      <td>2-122104-B-0.wav</td>\n",
              "      <td>2</td>\n",
              "      <td>0</td>\n",
              "      <td>dog</td>\n",
              "      <td>True</td>\n",
              "      <td>122104</td>\n",
              "      <td>B</td>\n",
              "    </tr>\n",
              "    <tr>\n",
              "      <th>...</th>\n",
              "      <td>...</td>\n",
              "      <td>...</td>\n",
              "      <td>...</td>\n",
              "      <td>...</td>\n",
              "      <td>...</td>\n",
              "      <td>...</td>\n",
              "      <td>...</td>\n",
              "    </tr>\n",
              "    <tr>\n",
              "      <th>1959</th>\n",
              "      <td>5-253094-C-49.wav</td>\n",
              "      <td>5</td>\n",
              "      <td>49</td>\n",
              "      <td>hand_saw</td>\n",
              "      <td>False</td>\n",
              "      <td>253094</td>\n",
              "      <td>C</td>\n",
              "    </tr>\n",
              "    <tr>\n",
              "      <th>1960</th>\n",
              "      <td>5-253094-D-49.wav</td>\n",
              "      <td>5</td>\n",
              "      <td>49</td>\n",
              "      <td>hand_saw</td>\n",
              "      <td>False</td>\n",
              "      <td>253094</td>\n",
              "      <td>D</td>\n",
              "    </tr>\n",
              "    <tr>\n",
              "      <th>1961</th>\n",
              "      <td>5-253101-A-49.wav</td>\n",
              "      <td>5</td>\n",
              "      <td>49</td>\n",
              "      <td>hand_saw</td>\n",
              "      <td>False</td>\n",
              "      <td>253101</td>\n",
              "      <td>A</td>\n",
              "    </tr>\n",
              "    <tr>\n",
              "      <th>1963</th>\n",
              "      <td>5-253101-C-49.wav</td>\n",
              "      <td>5</td>\n",
              "      <td>49</td>\n",
              "      <td>hand_saw</td>\n",
              "      <td>False</td>\n",
              "      <td>253101</td>\n",
              "      <td>C</td>\n",
              "    </tr>\n",
              "    <tr>\n",
              "      <th>1510</th>\n",
              "      <td>4-198360-C-49.wav</td>\n",
              "      <td>4</td>\n",
              "      <td>49</td>\n",
              "      <td>hand_saw</td>\n",
              "      <td>False</td>\n",
              "      <td>198360</td>\n",
              "      <td>C</td>\n",
              "    </tr>\n",
              "  </tbody>\n",
              "</table>\n",
              "<p>2000 rows × 7 columns</p>\n",
              "</div>"
            ],
            "text/plain": [
              "               filename  fold  target  category  esc10  src_file take\n",
              "0      1-100032-A-0.wav     1       0       dog   True    100032    A\n",
              "1031   3-155312-A-0.wav     3       0       dog   True    155312    A\n",
              "954    3-144028-A-0.wav     3       0       dog   True    144028    A\n",
              "923    3-136288-A-0.wav     3       0       dog   True    136288    A\n",
              "522    2-122104-B-0.wav     2       0       dog   True    122104    B\n",
              "...                 ...   ...     ...       ...    ...       ...  ...\n",
              "1959  5-253094-C-49.wav     5      49  hand_saw  False    253094    C\n",
              "1960  5-253094-D-49.wav     5      49  hand_saw  False    253094    D\n",
              "1961  5-253101-A-49.wav     5      49  hand_saw  False    253101    A\n",
              "1963  5-253101-C-49.wav     5      49  hand_saw  False    253101    C\n",
              "1510  4-198360-C-49.wav     4      49  hand_saw  False    198360    C\n",
              "\n",
              "[2000 rows x 7 columns]"
            ]
          },
          "execution_count": 6,
          "metadata": {},
          "output_type": "execute_result"
        }
      ],
      "source": [
        "df1"
      ]
    },
    {
      "cell_type": "code",
      "execution_count": null,
      "metadata": {
        "id": "Dbye2NbcRuEC",
        "outputId": "c3716fd8-060b-40d6-a799-671fac0cfb36"
      },
      "outputs": [
        {
          "data": {
            "text/plain": [
              "0        1-100032-A-0.wav\n",
              "1031     3-155312-A-0.wav\n",
              "954      3-144028-A-0.wav\n",
              "923      3-136288-A-0.wav\n",
              "522      2-122104-B-0.wav\n",
              "              ...        \n",
              "1959    5-253094-C-49.wav\n",
              "1960    5-253094-D-49.wav\n",
              "1961    5-253101-A-49.wav\n",
              "1963    5-253101-C-49.wav\n",
              "1510    4-198360-C-49.wav\n",
              "Name: filename, Length: 2000, dtype: object"
            ]
          },
          "execution_count": 7,
          "metadata": {},
          "output_type": "execute_result"
        }
      ],
      "source": [
        "df1[\"filename\"]"
      ]
    },
    {
      "cell_type": "code",
      "execution_count": null,
      "metadata": {
        "id": "ldSdBQyZRuEE",
        "outputId": "152e2070-63e1-4e00-c65b-b22e38258daf"
      },
      "outputs": [
        {
          "data": {
            "image/png": "[encoded data removed]",
            "text/plain": [
              "<Figure size 432x288 with 1 Axes>"
            ]
          },
          "metadata": {},
          "output_type": "display_data"
        }
      ],
      "source": [
        "import matplotlib.pyplot as plt\n",
        "import seaborn as sns\n",
        "sns.set(style=\"darkgrid\")\n",
        "sns.countplot(y= df['category'],orient='v')\n",
        "plt.show()"
      ]
    },
    {
      "cell_type": "code",
      "execution_count": null,
      "metadata": {
        "id": "uVPCYLrgRuEG"
      },
      "outputs": [],
      "source": [
        "import IPython.display as ipd\n",
        "import numpy as np\n",
        "import pandas as pd\n",
        "import librosa\n",
        "import matplotlib.pyplot as plt\n",
        "from scipy.io import wavfile as wav\n",
        "from sklearn import metrics\n",
        "from sklearn.metrics import confusion_matrix, classification_report\n",
        "from sklearn.model_selection import train_test_split\n",
        "from librosa import display\n",
        "import os"
      ]
    },
    {
      "cell_type": "code",
      "execution_count": null,
      "metadata": {
        "id": "XlQQz6wJRuEJ"
      },
      "outputs": [],
      "source": [
        "labels = list(df['category'].unique())"
      ]
    },
    {
      "cell_type": "code",
      "execution_count": null,
      "metadata": {
        "id": "cmpkNjkzRuEK",
        "outputId": "ab3b119c-4d52-423c-f558-a1f11620169a"
      },
      "outputs": [
        {
          "data": {
            "text/plain": [
              "['dog',\n",
              " 'chirping_birds',\n",
              " 'vacuum_cleaner',\n",
              " 'thunderstorm',\n",
              " 'door_wood_knock',\n",
              " 'can_opening',\n",
              " 'crow',\n",
              " 'clapping',\n",
              " 'fireworks',\n",
              " 'chainsaw',\n",
              " 'airplane',\n",
              " 'mouse_click',\n",
              " 'pouring_water',\n",
              " 'train',\n",
              " 'sheep',\n",
              " 'water_drops',\n",
              " 'church_bells',\n",
              " 'clock_alarm',\n",
              " 'keyboard_typing',\n",
              " 'wind',\n",
              " 'footsteps',\n",
              " 'frog',\n",
              " 'cow',\n",
              " 'brushing_teeth',\n",
              " 'car_horn',\n",
              " 'crackling_fire',\n",
              " 'helicopter',\n",
              " 'drinking_sipping',\n",
              " 'rain',\n",
              " 'insects',\n",
              " 'laughing',\n",
              " 'hen',\n",
              " 'engine',\n",
              " 'breathing',\n",
              " 'crying_baby',\n",
              " 'hand_saw',\n",
              " 'coughing',\n",
              " 'glass_breaking',\n",
              " 'snoring',\n",
              " 'toilet_flush',\n",
              " 'pig',\n",
              " 'washing_machine',\n",
              " 'clock_tick',\n",
              " 'sneezing',\n",
              " 'rooster',\n",
              " 'sea_waves',\n",
              " 'siren',\n",
              " 'cat',\n",
              " 'door_wood_creaks',\n",
              " 'crickets']"
            ]
          },
          "execution_count": 12,
          "metadata": {},
          "output_type": "execute_result"
        }
      ],
      "source": [
        "labels"
      ]
    },
    {
      "cell_type": "code",
      "execution_count": null,
      "metadata": {
        "id": "ir1SAp05RuER"
      },
      "outputs": [],
      "source": [
        "df2 = df1[['target', 'category']]"
      ]
    },
    {
      "cell_type": "code",
      "execution_count": null,
      "metadata": {
        "id": "cXNkuJl-RuET",
        "outputId": "e3bf761d-e233-44ec-8692-e2ce0c9d61df"
      },
      "outputs": [
        {
          "data": {
            "text/html": [
              "<div>\n",
              "<style scoped>\n",
              "    .dataframe tbody tr th:only-of-type {\n",
              "        vertical-align: middle;\n",
              "    }\n",
              "\n",
              "    .dataframe tbody tr th {\n",
              "        vertical-align: top;\n",
              "    }\n",
              "\n",
              "    .dataframe thead th {\n",
              "        text-align: right;\n",
              "    }\n",
              "</style>\n",
              "<table border=\"1\" class=\"dataframe\">\n",
              "  <thead>\n",
              "    <tr style=\"text-align: right;\">\n",
              "      <th></th>\n",
              "      <th>target</th>\n",
              "      <th>category</th>\n",
              "    </tr>\n",
              "  </thead>\n",
              "  <tbody>\n",
              "    <tr>\n",
              "      <th>0</th>\n",
              "      <td>0</td>\n",
              "      <td>dog</td>\n",
              "    </tr>\n",
              "    <tr>\n",
              "      <th>1031</th>\n",
              "      <td>0</td>\n",
              "      <td>dog</td>\n",
              "    </tr>\n",
              "    <tr>\n",
              "      <th>954</th>\n",
              "      <td>0</td>\n",
              "      <td>dog</td>\n",
              "    </tr>\n",
              "    <tr>\n",
              "      <th>923</th>\n",
              "      <td>0</td>\n",
              "      <td>dog</td>\n",
              "    </tr>\n",
              "    <tr>\n",
              "      <th>522</th>\n",
              "      <td>0</td>\n",
              "      <td>dog</td>\n",
              "    </tr>\n",
              "    <tr>\n",
              "      <th>...</th>\n",
              "      <td>...</td>\n",
              "      <td>...</td>\n",
              "    </tr>\n",
              "    <tr>\n",
              "      <th>1959</th>\n",
              "      <td>49</td>\n",
              "      <td>hand_saw</td>\n",
              "    </tr>\n",
              "    <tr>\n",
              "      <th>1960</th>\n",
              "      <td>49</td>\n",
              "      <td>hand_saw</td>\n",
              "    </tr>\n",
              "    <tr>\n",
              "      <th>1961</th>\n",
              "      <td>49</td>\n",
              "      <td>hand_saw</td>\n",
              "    </tr>\n",
              "    <tr>\n",
              "      <th>1963</th>\n",
              "      <td>49</td>\n",
              "      <td>hand_saw</td>\n",
              "    </tr>\n",
              "    <tr>\n",
              "      <th>1510</th>\n",
              "      <td>49</td>\n",
              "      <td>hand_saw</td>\n",
              "    </tr>\n",
              "  </tbody>\n",
              "</table>\n",
              "<p>2000 rows × 2 columns</p>\n",
              "</div>"
            ],
            "text/plain": [
              "      target  category\n",
              "0          0       dog\n",
              "1031       0       dog\n",
              "954        0       dog\n",
              "923        0       dog\n",
              "522        0       dog\n",
              "...      ...       ...\n",
              "1959      49  hand_saw\n",
              "1960      49  hand_saw\n",
              "1961      49  hand_saw\n",
              "1963      49  hand_saw\n",
              "1510      49  hand_saw\n",
              "\n",
              "[2000 rows x 2 columns]"
            ]
          },
          "execution_count": 14,
          "metadata": {},
          "output_type": "execute_result"
        }
      ],
      "source": [
        "df2"
      ]
    },
    {
      "cell_type": "code",
      "execution_count": null,
      "metadata": {
        "id": "MoOCUodbRuEU"
      },
      "outputs": [],
      "source": [
        "df2 = df2.drop_duplicates(subset=['target', 'category'])"
      ]
    },
    {
      "cell_type": "code",
      "execution_count": null,
      "metadata": {
        "id": "o3ePRZXuRuEV",
        "outputId": "1ec98087-e9ef-4aba-e29a-bef9900f8428"
      },
      "outputs": [
        {
          "data": {
            "text/html": [
              "<div>\n",
              "<style scoped>\n",
              "    .dataframe tbody tr th:only-of-type {\n",
              "        vertical-align: middle;\n",
              "    }\n",
              "\n",
              "    .dataframe tbody tr th {\n",
              "        vertical-align: top;\n",
              "    }\n",
              "\n",
              "    .dataframe thead th {\n",
              "        text-align: right;\n",
              "    }\n",
              "</style>\n",
              "<table border=\"1\" class=\"dataframe\">\n",
              "  <thead>\n",
              "    <tr style=\"text-align: right;\">\n",
              "      <th></th>\n",
              "      <th>target</th>\n",
              "      <th>category</th>\n",
              "    </tr>\n",
              "  </thead>\n",
              "  <tbody>\n",
              "    <tr>\n",
              "      <th>0</th>\n",
              "      <td>0</td>\n",
              "      <td>dog</td>\n",
              "    </tr>\n",
              "    <tr>\n",
              "      <th>213</th>\n",
              "      <td>1</td>\n",
              "      <td>rooster</td>\n",
              "    </tr>\n",
              "    <tr>\n",
              "      <th>1580</th>\n",
              "      <td>2</td>\n",
              "      <td>pig</td>\n",
              "    </tr>\n",
              "    <tr>\n",
              "      <th>422</th>\n",
              "      <td>3</td>\n",
              "      <td>cow</td>\n",
              "    </tr>\n",
              "    <tr>\n",
              "      <th>1179</th>\n",
              "      <td>4</td>\n",
              "      <td>frog</td>\n",
              "    </tr>\n",
              "    <tr>\n",
              "      <th>229</th>\n",
              "      <td>5</td>\n",
              "      <td>cat</td>\n",
              "    </tr>\n",
              "    <tr>\n",
              "      <th>1576</th>\n",
              "      <td>6</td>\n",
              "      <td>hen</td>\n",
              "    </tr>\n",
              "    <tr>\n",
              "      <th>1882</th>\n",
              "      <td>7</td>\n",
              "      <td>insects</td>\n",
              "    </tr>\n",
              "    <tr>\n",
              "      <th>380</th>\n",
              "      <td>8</td>\n",
              "      <td>sheep</td>\n",
              "    </tr>\n",
              "    <tr>\n",
              "      <th>1983</th>\n",
              "      <td>9</td>\n",
              "      <td>crow</td>\n",
              "    </tr>\n",
              "    <tr>\n",
              "      <th>1726</th>\n",
              "      <td>10</td>\n",
              "      <td>rain</td>\n",
              "    </tr>\n",
              "    <tr>\n",
              "      <th>963</th>\n",
              "      <td>11</td>\n",
              "      <td>sea_waves</td>\n",
              "    </tr>\n",
              "    <tr>\n",
              "      <th>65</th>\n",
              "      <td>12</td>\n",
              "      <td>crackling_fire</td>\n",
              "    </tr>\n",
              "    <tr>\n",
              "      <th>919</th>\n",
              "      <td>13</td>\n",
              "      <td>crickets</td>\n",
              "    </tr>\n",
              "    <tr>\n",
              "      <th>449</th>\n",
              "      <td>14</td>\n",
              "      <td>chirping_birds</td>\n",
              "    </tr>\n",
              "    <tr>\n",
              "      <th>241</th>\n",
              "      <td>15</td>\n",
              "      <td>water_drops</td>\n",
              "    </tr>\n",
              "    <tr>\n",
              "      <th>246</th>\n",
              "      <td>16</td>\n",
              "      <td>wind</td>\n",
              "    </tr>\n",
              "    <tr>\n",
              "      <th>830</th>\n",
              "      <td>17</td>\n",
              "      <td>pouring_water</td>\n",
              "    </tr>\n",
              "    <tr>\n",
              "      <th>1182</th>\n",
              "      <td>18</td>\n",
              "      <td>toilet_flush</td>\n",
              "    </tr>\n",
              "    <tr>\n",
              "      <th>810</th>\n",
              "      <td>19</td>\n",
              "      <td>thunderstorm</td>\n",
              "    </tr>\n",
              "    <tr>\n",
              "      <th>1010</th>\n",
              "      <td>20</td>\n",
              "      <td>crying_baby</td>\n",
              "    </tr>\n",
              "    <tr>\n",
              "      <th>1289</th>\n",
              "      <td>21</td>\n",
              "      <td>sneezing</td>\n",
              "    </tr>\n",
              "    <tr>\n",
              "      <th>618</th>\n",
              "      <td>22</td>\n",
              "      <td>clapping</td>\n",
              "    </tr>\n",
              "    <tr>\n",
              "      <th>1087</th>\n",
              "      <td>23</td>\n",
              "      <td>breathing</td>\n",
              "    </tr>\n",
              "    <tr>\n",
              "      <th>260</th>\n",
              "      <td>24</td>\n",
              "      <td>coughing</td>\n",
              "    </tr>\n",
              "    <tr>\n",
              "      <th>1885</th>\n",
              "      <td>25</td>\n",
              "      <td>footsteps</td>\n",
              "    </tr>\n",
              "    <tr>\n",
              "      <th>1245</th>\n",
              "      <td>26</td>\n",
              "      <td>laughing</td>\n",
              "    </tr>\n",
              "    <tr>\n",
              "      <th>1366</th>\n",
              "      <td>27</td>\n",
              "      <td>brushing_teeth</td>\n",
              "    </tr>\n",
              "    <tr>\n",
              "      <th>200</th>\n",
              "      <td>28</td>\n",
              "      <td>snoring</td>\n",
              "    </tr>\n",
              "    <tr>\n",
              "      <th>525</th>\n",
              "      <td>29</td>\n",
              "      <td>drinking_sipping</td>\n",
              "    </tr>\n",
              "    <tr>\n",
              "      <th>261</th>\n",
              "      <td>30</td>\n",
              "      <td>door_wood_knock</td>\n",
              "    </tr>\n",
              "    <tr>\n",
              "      <th>1900</th>\n",
              "      <td>31</td>\n",
              "      <td>mouse_click</td>\n",
              "    </tr>\n",
              "    <tr>\n",
              "      <th>1816</th>\n",
              "      <td>32</td>\n",
              "      <td>keyboard_typing</td>\n",
              "    </tr>\n",
              "    <tr>\n",
              "      <th>1297</th>\n",
              "      <td>33</td>\n",
              "      <td>door_wood_creaks</td>\n",
              "    </tr>\n",
              "    <tr>\n",
              "      <th>755</th>\n",
              "      <td>34</td>\n",
              "      <td>can_opening</td>\n",
              "    </tr>\n",
              "    <tr>\n",
              "      <th>1563</th>\n",
              "      <td>35</td>\n",
              "      <td>washing_machine</td>\n",
              "    </tr>\n",
              "    <tr>\n",
              "      <th>570</th>\n",
              "      <td>36</td>\n",
              "      <td>vacuum_cleaner</td>\n",
              "    </tr>\n",
              "    <tr>\n",
              "      <th>908</th>\n",
              "      <td>37</td>\n",
              "      <td>clock_alarm</td>\n",
              "    </tr>\n",
              "    <tr>\n",
              "      <th>509</th>\n",
              "      <td>38</td>\n",
              "      <td>clock_tick</td>\n",
              "    </tr>\n",
              "    <tr>\n",
              "      <th>370</th>\n",
              "      <td>39</td>\n",
              "      <td>glass_breaking</td>\n",
              "    </tr>\n",
              "    <tr>\n",
              "      <th>56</th>\n",
              "      <td>40</td>\n",
              "      <td>helicopter</td>\n",
              "    </tr>\n",
              "    <tr>\n",
              "      <th>1681</th>\n",
              "      <td>41</td>\n",
              "      <td>chainsaw</td>\n",
              "    </tr>\n",
              "    <tr>\n",
              "      <th>347</th>\n",
              "      <td>42</td>\n",
              "      <td>siren</td>\n",
              "    </tr>\n",
              "    <tr>\n",
              "      <th>1386</th>\n",
              "      <td>43</td>\n",
              "      <td>car_horn</td>\n",
              "    </tr>\n",
              "    <tr>\n",
              "      <th>1446</th>\n",
              "      <td>44</td>\n",
              "      <td>engine</td>\n",
              "    </tr>\n",
              "    <tr>\n",
              "      <th>922</th>\n",
              "      <td>45</td>\n",
              "      <td>train</td>\n",
              "    </tr>\n",
              "    <tr>\n",
              "      <th>879</th>\n",
              "      <td>46</td>\n",
              "      <td>church_bells</td>\n",
              "    </tr>\n",
              "    <tr>\n",
              "      <th>715</th>\n",
              "      <td>47</td>\n",
              "      <td>airplane</td>\n",
              "    </tr>\n",
              "    <tr>\n",
              "      <th>870</th>\n",
              "      <td>48</td>\n",
              "      <td>fireworks</td>\n",
              "    </tr>\n",
              "    <tr>\n",
              "      <th>398</th>\n",
              "      <td>49</td>\n",
              "      <td>hand_saw</td>\n",
              "    </tr>\n",
              "  </tbody>\n",
              "</table>\n",
              "</div>"
            ],
            "text/plain": [
              "      target          category\n",
              "0          0               dog\n",
              "213        1           rooster\n",
              "1580       2               pig\n",
              "422        3               cow\n",
              "1179       4              frog\n",
              "229        5               cat\n",
              "1576       6               hen\n",
              "1882       7           insects\n",
              "380        8             sheep\n",
              "1983       9              crow\n",
              "1726      10              rain\n",
              "963       11         sea_waves\n",
              "65        12    crackling_fire\n",
              "919       13          crickets\n",
              "449       14    chirping_birds\n",
              "241       15       water_drops\n",
              "246       16              wind\n",
              "830       17     pouring_water\n",
              "1182      18      toilet_flush\n",
              "810       19      thunderstorm\n",
              "1010      20       crying_baby\n",
              "1289      21          sneezing\n",
              "618       22          clapping\n",
              "1087      23         breathing\n",
              "260       24          coughing\n",
              "1885      25         footsteps\n",
              "1245      26          laughing\n",
              "1366      27    brushing_teeth\n",
              "200       28           snoring\n",
              "525       29  drinking_sipping\n",
              "261       30   door_wood_knock\n",
              "1900      31       mouse_click\n",
              "1816      32   keyboard_typing\n",
              "1297      33  door_wood_creaks\n",
              "755       34       can_opening\n",
              "1563      35   washing_machine\n",
              "570       36    vacuum_cleaner\n",
              "908       37       clock_alarm\n",
              "509       38        clock_tick\n",
              "370       39    glass_breaking\n",
              "56        40        helicopter\n",
              "1681      41          chainsaw\n",
              "347       42             siren\n",
              "1386      43          car_horn\n",
              "1446      44            engine\n",
              "922       45             train\n",
              "879       46      church_bells\n",
              "715       47          airplane\n",
              "870       48         fireworks\n",
              "398       49          hand_saw"
            ]
          },
          "execution_count": 16,
          "metadata": {},
          "output_type": "execute_result"
        }
      ],
      "source": [
        "df2"
      ]
    },
    {
      "cell_type": "code",
      "execution_count": null,
      "metadata": {
        "id": "9x6mdKVNRuEa"
      },
      "outputs": [],
      "source": [
        "files = dict()\n",
        "for i in range(len(labels)):\n",
        "    tmp = df[df['category'] == labels[i]][:1].reset_index()\n",
        "    path = 'D:\\\\deep learning\\\\ESC-50-master\\\\audio\\\\{}'.format(tmp['filename'][0])\n",
        "    files[labels[i]] = path"
      ]
    },
    {
      "cell_type": "code",
      "execution_count": null,
      "metadata": {
        "id": "tZ564nkIRuEd",
        "outputId": "1fef9e52-e66d-46d8-be59-62d39b4f06db"
      },
      "outputs": [
        {
          "data": {
            "image/png": "[encoded data removed]",
            "text/plain": [
              "<Figure size 1080x1080 with 10 Axes>"
            ]
          },
          "metadata": {},
          "output_type": "display_data"
        }
      ],
      "source": [
        "fig = plt.figure(figsize=(15,15))\n",
        "fig.subplots_adjust(hspace=0.4, wspace=0.4)\n",
        "for i, label in enumerate(labels[:10]):\n",
        "    fn = files[label]\n",
        "    fig.add_subplot(5, 2, i+1)\n",
        "    plt.title(label)\n",
        "    data, sample_rate = librosa.load(fn)\n",
        "    display.waveshow(data, sr= sample_rate)"
      ]
    },
    {
      "cell_type": "code",
      "execution_count": null,
      "metadata": {
        "id": "HuW1l-sJRuEf"
      },
      "outputs": [],
      "source": [
        "fn='D:\\\\deep learning\\\\ESC-50-master\\\\audio\\\\2-122104-B-0.wav'\n",
        "audio, sample_rate = librosa.load(fn, res_type='kaiser_fast') \n",
        "mfccs = (librosa.feature.mfcc(y=audio, sr=sample_rate, n_mfcc=40))\n",
        "t = librosa.feature.tonnetz(y=librosa.effects.harmonic(audio),sr=sample_rate)\n",
        "m = librosa.feature.melspectrogram(y=audio ,sr=sample_rate)\n",
        "s = np.abs(librosa.stft(audio))\n",
        "c = librosa.feature.chroma_stft(S=s, sr=sample_rate)"
      ]
    },
    {
      "cell_type": "code",
      "execution_count": null,
      "metadata": {
        "id": "KH-QbvZvRuEg",
        "outputId": "07e84850-ff21-412a-b374-9c43921ee385"
      },
      "outputs": [
        {
          "data": {
            "text/plain": [
              "(40, 216)"
            ]
          },
          "execution_count": 20,
          "metadata": {},
          "output_type": "execute_result"
        }
      ],
      "source": [
        "mfccs.shape"
      ]
    },
    {
      "cell_type": "code",
      "execution_count": null,
      "metadata": {
        "id": "Jkxf4D-kRuE2",
        "outputId": "2ac0543f-94df-49d1-94a1-497e0363abb8"
      },
      "outputs": [
        {
          "data": {
            "text/plain": [
              "(128, 216)"
            ]
          },
          "execution_count": 21,
          "metadata": {},
          "output_type": "execute_result"
        }
      ],
      "source": [
        "t.shape\n",
        "m.shape"
      ]
    },
    {
      "cell_type": "code",
      "execution_count": null,
      "metadata": {
        "id": "1YNIaoOZRuE5",
        "outputId": "5dec8d07-6b51-4de9-dca0-c5daf158953e"
      },
      "outputs": [
        {
          "data": {
            "text/plain": [
              "(12, 216)"
            ]
          },
          "execution_count": 22,
          "metadata": {},
          "output_type": "execute_result"
        }
      ],
      "source": [
        "c.shape"
      ]
    },
    {
      "cell_type": "code",
      "execution_count": null,
      "metadata": {
        "id": "bxWZrLhFRuE6",
        "outputId": "87e76390-aefd-4870-ab1c-cc12971f5b7e"
      },
      "outputs": [
        {
          "data": {
            "text/plain": [
              "<matplotlib.collections.QuadMesh at 0x262e4994040>"
            ]
          },
          "execution_count": 23,
          "metadata": {},
          "output_type": "execute_result"
        },
        {
          "data": {
            "image/png": "[encoded data removed]",
            "text/plain": [
              "<Figure size 432x288 with 1 Axes>"
            ]
          },
          "metadata": {},
          "output_type": "display_data"
        }
      ],
      "source": [
        "\n",
        "librosa.display.specshow(c, y_axis='linear')\n"
      ]
    },
    {
      "cell_type": "code",
      "execution_count": null,
      "metadata": {
        "id": "gsB4vsyHRuE7"
      },
      "outputs": [],
      "source": [
        "a=[]\n",
        "tonnets=[]\n",
        "me=[]\n",
        "ch=[]\n",
        "a.append(mfccs)\n",
        "tonnets.append(t)\n",
        "me.append(m)\n",
        "ch.append(c)"
      ]
    },
    {
      "cell_type": "code",
      "execution_count": null,
      "metadata": {
        "id": "driKXqZZRuE8"
      },
      "outputs": [],
      "source": [
        "dict={'Mfcc':a,'tonnetz':tonnets,'melspectogram':me,'chroma_stft':ch}"
      ]
    },
    {
      "cell_type": "code",
      "execution_count": null,
      "metadata": {
        "id": "EenwEtseRuFF",
        "outputId": "0a6addc5-5d2a-4ce4-eca0-4c3755a8b450"
      },
      "outputs": [
        {
          "data": {
            "text/html": [
              "<div>\n",
              "<style scoped>\n",
              "    .dataframe tbody tr th:only-of-type {\n",
              "        vertical-align: middle;\n",
              "    }\n",
              "\n",
              "    .dataframe tbody tr th {\n",
              "        vertical-align: top;\n",
              "    }\n",
              "\n",
              "    .dataframe thead th {\n",
              "        text-align: right;\n",
              "    }\n",
              "</style>\n",
              "<table border=\"1\" class=\"dataframe\">\n",
              "  <thead>\n",
              "    <tr style=\"text-align: right;\">\n",
              "      <th></th>\n",
              "      <th>Mfcc</th>\n",
              "      <th>tonnetz</th>\n",
              "      <th>melspectogram</th>\n",
              "      <th>chroma_stft</th>\n",
              "    </tr>\n",
              "  </thead>\n",
              "  <tbody>\n",
              "    <tr>\n",
              "      <th>0</th>\n",
              "      <td>[[-449.6543, -429.87326, -429.43335, -429.4954...</td>\n",
              "      <td>[[0.046678147582606085, 0.012278870914834919, ...</td>\n",
              "      <td>[[0.029717468, 0.021317888, 0.012764242, 0.056...</td>\n",
              "      <td>[[0.66209376, 0.8521304, 0.88667667, 0.7893907...</td>\n",
              "    </tr>\n",
              "  </tbody>\n",
              "</table>\n",
              "</div>"
            ],
            "text/plain": [
              "                                                Mfcc  \\\n",
              "0  [[-449.6543, -429.87326, -429.43335, -429.4954...   \n",
              "\n",
              "                                             tonnetz  \\\n",
              "0  [[0.046678147582606085, 0.012278870914834919, ...   \n",
              "\n",
              "                                       melspectogram  \\\n",
              "0  [[0.029717468, 0.021317888, 0.012764242, 0.056...   \n",
              "\n",
              "                                         chroma_stft  \n",
              "0  [[0.66209376, 0.8521304, 0.88667667, 0.7893907...  "
            ]
          },
          "execution_count": 26,
          "metadata": {},
          "output_type": "execute_result"
        }
      ],
      "source": [
        "extracted_features_single= pd.DataFrame(dict)\n",
        "extracted_features_single.head()"
      ]
    },
    {
      "cell_type": "code",
      "execution_count": null,
      "metadata": {
        "id": "DrZ-lPafRuFH",
        "outputId": "c364cbeb-9569-4977-a4ae-161ce52b9250"
      },
      "outputs": [
        {
          "data": {
            "text/plain": [
              "(1, 40, 216)"
            ]
          },
          "execution_count": 27,
          "metadata": {},
          "output_type": "execute_result"
        }
      ],
      "source": [
        "single_fea1=np.array(extracted_features_single['Mfcc'].tolist())\n",
        "single_fea1.shape"
      ]
    },
    {
      "cell_type": "code",
      "execution_count": null,
      "metadata": {
        "id": "YnL5V-ssRuFJ",
        "outputId": "e834d2af-77bf-40de-9c73-0d3ee3dae207"
      },
      "outputs": [
        {
          "data": {
            "text/plain": [
              "(1, 6, 216)"
            ]
          },
          "execution_count": 28,
          "metadata": {},
          "output_type": "execute_result"
        }
      ],
      "source": [
        "single_fea2=np.array(extracted_features_single['tonnetz'].tolist())\n",
        "single_fea2.shape"
      ]
    },
    {
      "cell_type": "code",
      "execution_count": null,
      "metadata": {
        "id": "TU1U99ZgRuFL",
        "outputId": "9ee4931f-4f85-4d84-cb8b-726e5213cf2b"
      },
      "outputs": [
        {
          "data": {
            "text/plain": [
              "(1, 128, 216)"
            ]
          },
          "execution_count": 29,
          "metadata": {},
          "output_type": "execute_result"
        }
      ],
      "source": [
        "single_fea3=np.array(extracted_features_single['melspectogram'].tolist())\n",
        "single_fea3.shape"
      ]
    },
    {
      "cell_type": "code",
      "execution_count": null,
      "metadata": {
        "id": "PXhcQ2u0RuFM",
        "outputId": "09dacac3-94ce-4e7c-8144-fd6fe7d736cd"
      },
      "outputs": [
        {
          "data": {
            "text/plain": [
              "(1, 12, 216)"
            ]
          },
          "execution_count": 30,
          "metadata": {},
          "output_type": "execute_result"
        }
      ],
      "source": [
        "single_fea4=np.array(extracted_features_single['chroma_stft'].tolist())\n",
        "single_fea4.shape"
      ]
    },
    {
      "cell_type": "code",
      "execution_count": null,
      "metadata": {
        "id": "nFhT6ADxRuFO"
      },
      "outputs": [],
      "source": [
        "def extract_features(file_name):\n",
        "    audio, sample_rate = librosa.load(file_name, res_type='kaiser_fast') \n",
        "    mfccs = librosa.feature.mfcc(y=audio, sr=sample_rate, n_mfcc=40)\n",
        "    #mfccs_processed = np.mean(mfccs.T,axis=0)\n",
        "     \n",
        "    return mfccs"
      ]
    },
    {
      "cell_type": "code",
      "execution_count": null,
      "metadata": {
        "id": "5Z5NLP0sRuFO"
      },
      "outputs": [],
      "source": [
        "def extract_features2(file_name):\n",
        "    audio, sample_rate = librosa.load(file_name, res_type='kaiser_fast') \n",
        "    mel = (librosa.feature.melspectrogram(y=audio ,sr=sample_rate))\n",
        "     \n",
        "    return mel"
      ]
    },
    {
      "cell_type": "code",
      "execution_count": null,
      "metadata": {
        "id": "HObzf91vRuFP"
      },
      "outputs": [],
      "source": [
        "def extract_features3(file_name):\n",
        "    audio, sample_rate = librosa.load(file_name, res_type='kaiser_fast') \n",
        "    s = np.abs(librosa.stft(audio))\n",
        "    c = librosa.feature.chroma_stft(S=s, sr=sample_rate)\n",
        "    #mfccs_processed = np.mean(mfccs.T,axis=0)\n",
        "     \n",
        "    return c"
      ]
    },
    {
      "cell_type": "code",
      "execution_count": null,
      "metadata": {
        "id": "BCXgOsXkRuFQ"
      },
      "outputs": [],
      "source": [
        "fulldatasetpath = \"D:\\\\deep learning\\\\ESC-50-master\\\\audio\\\\\""
      ]
    },
    {
      "cell_type": "code",
      "execution_count": null,
      "metadata": {
        "id": "u7WBA3ZuRuFQ"
      },
      "outputs": [],
      "source": []
    },
    {
      "cell_type": "code",
      "execution_count": null,
      "metadata": {
        "id": "C0WfWqFsRuFR"
      },
      "outputs": [],
      "source": [
        "X = []\n",
        "y = []\n",
        "# Iterate through each sound file and extract the features \n",
        "for index, row in df.iterrows():\n",
        "    file_name = os.path.join(fulldatasetpath,str(row[\"filename\"]))\n",
        "    \n",
        "    class_label = row[\"target\"]\n",
        "    data = extract_features(file_name)\n",
        "    X.append(data)\n",
        "    y.append(class_label)"
      ]
    },
    {
      "cell_type": "code",
      "execution_count": null,
      "metadata": {
        "id": "-8_sgFZeRuFV"
      },
      "outputs": [],
      "source": [
        "d = {'Features':X,'class':y}"
      ]
    },
    {
      "cell_type": "code",
      "execution_count": null,
      "metadata": {
        "id": "aB2Wx_2XRuFW",
        "outputId": "f31efbef-e195-4a2b-adcf-63548ed4d683"
      },
      "outputs": [
        {
          "data": {
            "text/html": [
              "<div>\n",
              "<style scoped>\n",
              "    .dataframe tbody tr th:only-of-type {\n",
              "        vertical-align: middle;\n",
              "    }\n",
              "\n",
              "    .dataframe tbody tr th {\n",
              "        vertical-align: top;\n",
              "    }\n",
              "\n",
              "    .dataframe thead th {\n",
              "        text-align: right;\n",
              "    }\n",
              "</style>\n",
              "<table border=\"1\" class=\"dataframe\">\n",
              "  <thead>\n",
              "    <tr style=\"text-align: right;\">\n",
              "      <th></th>\n",
              "      <th>Features</th>\n",
              "      <th>class</th>\n",
              "    </tr>\n",
              "  </thead>\n",
              "  <tbody>\n",
              "    <tr>\n",
              "      <th>0</th>\n",
              "      <td>[[-629.03265, -629.03265, -629.03265, -629.032...</td>\n",
              "      <td>0</td>\n",
              "    </tr>\n",
              "    <tr>\n",
              "      <th>1</th>\n",
              "      <td>[[-199.46013, -180.08215, -185.94978, -198.387...</td>\n",
              "      <td>14</td>\n",
              "    </tr>\n",
              "    <tr>\n",
              "      <th>2</th>\n",
              "      <td>[[-98.50939, -76.07503, -81.16424, -79.17356, ...</td>\n",
              "      <td>36</td>\n",
              "    </tr>\n",
              "    <tr>\n",
              "      <th>3</th>\n",
              "      <td>[[-7.582925, 16.752972, 17.415335, 14.373393, ...</td>\n",
              "      <td>36</td>\n",
              "    </tr>\n",
              "    <tr>\n",
              "      <th>4</th>\n",
              "      <td>[[-473.4061, -444.94675, -441.7069, -432.7292,...</td>\n",
              "      <td>19</td>\n",
              "    </tr>\n",
              "  </tbody>\n",
              "</table>\n",
              "</div>"
            ],
            "text/plain": [
              "                                            Features  class\n",
              "0  [[-629.03265, -629.03265, -629.03265, -629.032...      0\n",
              "1  [[-199.46013, -180.08215, -185.94978, -198.387...     14\n",
              "2  [[-98.50939, -76.07503, -81.16424, -79.17356, ...     36\n",
              "3  [[-7.582925, 16.752972, 17.415335, 14.373393, ...     36\n",
              "4  [[-473.4061, -444.94675, -441.7069, -432.7292,...     19"
            ]
          },
          "execution_count": 128,
          "metadata": {},
          "output_type": "execute_result"
        }
      ],
      "source": [
        "extracted_features_df= pd.DataFrame(d, columns=['Features','class'])\n",
        "extracted_features_df.head()"
      ]
    },
    {
      "cell_type": "code",
      "execution_count": null,
      "metadata": {
        "id": "m6QlqT4QRuFW",
        "outputId": "58cc87dc-09c4-4604-c79d-845e16a3c450"
      },
      "outputs": [
        {
          "data": {
            "text/plain": [
              "array([[-199.46013   , -180.08215   , -185.94978   , ..., -209.80316   ,\n",
              "        -204.37112   , -207.65556   ],\n",
              "       [  -8.256139  ,   -4.919419  ,   -3.7486098 , ...,   12.471603  ,\n",
              "          20.448952  ,   31.783108  ],\n",
              "       [ -58.371994  ,  -53.36612   ,  -59.72476   , ...,  -69.86039   ,\n",
              "         -63.53764   ,  -51.152935  ],\n",
              "       ...,\n",
              "       [  10.619265  ,   13.822255  ,   18.995403  , ...,   -1.4410939 ,\n",
              "          -3.8219008 ,   -4.082913  ],\n",
              "       [  -1.9928677 ,   -7.235595  ,  -12.922831  , ...,    2.6990538 ,\n",
              "          -0.97676593,    2.1793709 ],\n",
              "       [   6.6480103 ,    9.605652  ,   11.250654  , ...,   -2.052101  ,\n",
              "           1.7287511 ,    7.4548464 ]], dtype=float32)"
            ]
          },
          "execution_count": 129,
          "metadata": {},
          "output_type": "execute_result"
        }
      ],
      "source": [
        "extracted_features_df['Features'][1]"
      ]
    },
    {
      "cell_type": "code",
      "execution_count": null,
      "metadata": {
        "id": "jj1RjZnXRuFX"
      },
      "outputs": [],
      "source": [
        "### Split the dataset into independent and dependent dataset\n",
        "X=np.array(extracted_features_df['Features'].tolist())\n",
        "y=np.array(extracted_features_df['class'].tolist())"
      ]
    },
    {
      "cell_type": "code",
      "execution_count": null,
      "metadata": {
        "id": "j6xXRQwMRuFX",
        "outputId": "a17b83cd-f59b-4e5b-862b-3414c4c898f4"
      },
      "outputs": [
        {
          "data": {
            "text/plain": [
              "(2000, 40, 216)"
            ]
          },
          "execution_count": 131,
          "metadata": {},
          "output_type": "execute_result"
        }
      ],
      "source": [
        "X.shape"
      ]
    },
    {
      "cell_type": "code",
      "execution_count": null,
      "metadata": {
        "id": "ey1wbi34RuFY",
        "outputId": "05da9992-a63d-42ea-9fb0-19facfe1ea64"
      },
      "outputs": [
        {
          "data": {
            "text/plain": [
              "(2000,)"
            ]
          },
          "execution_count": 132,
          "metadata": {},
          "output_type": "execute_result"
        }
      ],
      "source": [
        "y.shape"
      ]
    },
    {
      "cell_type": "code",
      "execution_count": null,
      "metadata": {
        "id": "pLpRh14jRuFZ",
        "outputId": "a34818d4-63a1-484c-9566-e501d1c2db6a"
      },
      "outputs": [
        {
          "data": {
            "text/plain": [
              "array([ 0, 14, 36, ..., 25,  8,  0])"
            ]
          },
          "execution_count": 133,
          "metadata": {},
          "output_type": "execute_result"
        }
      ],
      "source": [
        "y"
      ]
    },
    {
      "cell_type": "code",
      "execution_count": null,
      "metadata": {
        "id": "DdGPpZ_xRuFZ"
      },
      "outputs": [],
      "source": [
        "y=y.reshape(-1,1)"
      ]
    },
    {
      "cell_type": "code",
      "execution_count": null,
      "metadata": {
        "id": "B6It13_2RuFa"
      },
      "outputs": [],
      "source": [
        "### Label Encoding\n",
        "#y=np.array(pd.get_dummies(y))\n",
        "### Label Encoder\n",
        "#from tensorflow.keras.utils import to_categorical\n",
        "from sklearn.preprocessing import OneHotEncoder\n",
        "#from sklearn.preprocessing import LabelEncoder\n",
        "#labelencoder=LabelEncoder()\n",
        "y=OneHotEncoder().fit_transform(y).toarray()"
      ]
    },
    {
      "cell_type": "code",
      "execution_count": null,
      "metadata": {
        "id": "kHGolBMERuFa",
        "outputId": "d4a0b35c-79b8-4a57-943f-b94ba5944878"
      },
      "outputs": [
        {
          "data": {
            "text/plain": [
              "array([[1., 0., 0., ..., 0., 0., 0.],\n",
              "       [0., 0., 0., ..., 0., 0., 0.],\n",
              "       [0., 0., 0., ..., 0., 0., 0.],\n",
              "       ...,\n",
              "       [0., 0., 0., ..., 0., 0., 0.],\n",
              "       [0., 0., 0., ..., 0., 0., 0.],\n",
              "       [1., 0., 0., ..., 0., 0., 0.]])"
            ]
          },
          "execution_count": 136,
          "metadata": {},
          "output_type": "execute_result"
        }
      ],
      "source": [
        "y"
      ]
    },
    {
      "cell_type": "code",
      "execution_count": null,
      "metadata": {
        "id": "VuSjopGqRuFb",
        "outputId": "5825deda-2612-4ae1-edb1-856c725fc52d"
      },
      "outputs": [
        {
          "data": {
            "text/plain": [
              "(2000, 50)"
            ]
          },
          "execution_count": 137,
          "metadata": {},
          "output_type": "execute_result"
        }
      ],
      "source": [
        "y.shape"
      ]
    },
    {
      "cell_type": "code",
      "execution_count": null,
      "metadata": {
        "id": "aLvImcNeRuFb"
      },
      "outputs": [],
      "source": [
        "from sklearn.preprocessing import StandardScaler\n",
        "tran = StandardScaler()\n",
        "X= tran.fit_transform(X)"
      ]
    },
    {
      "cell_type": "code",
      "execution_count": null,
      "metadata": {
        "id": "qVZNlz2XRuFb"
      },
      "outputs": [],
      "source": [
        "from sklearn.model_selection import train_test_split\n",
        "X_train,X_test,y_train,y_test=train_test_split(X,y,test_size=0.2,random_state=1)"
      ]
    },
    {
      "cell_type": "code",
      "execution_count": null,
      "metadata": {
        "id": "gDsLmA8jRuF3",
        "outputId": "7e9bcab7-e76c-453c-b0ea-49d7849c44e6"
      },
      "outputs": [
        {
          "data": {
            "text/plain": [
              "array([[[-6.29032654e+02, -6.29032654e+02, -6.29032654e+02, ...,\n",
              "         -6.29032654e+02, -6.29032654e+02, -6.29032654e+02],\n",
              "        [ 0.00000000e+00,  0.00000000e+00,  0.00000000e+00, ...,\n",
              "          0.00000000e+00,  0.00000000e+00,  0.00000000e+00],\n",
              "        [ 0.00000000e+00,  0.00000000e+00,  0.00000000e+00, ...,\n",
              "          0.00000000e+00,  0.00000000e+00,  0.00000000e+00],\n",
              "        ...,\n",
              "        [ 0.00000000e+00,  0.00000000e+00,  0.00000000e+00, ...,\n",
              "          0.00000000e+00,  0.00000000e+00,  0.00000000e+00],\n",
              "        [ 0.00000000e+00,  0.00000000e+00,  0.00000000e+00, ...,\n",
              "          0.00000000e+00,  0.00000000e+00,  0.00000000e+00],\n",
              "        [ 0.00000000e+00,  0.00000000e+00,  0.00000000e+00, ...,\n",
              "          0.00000000e+00,  0.00000000e+00,  0.00000000e+00]],\n",
              "\n",
              "       [[-1.62773315e+02, -1.43250122e+02, -1.45703247e+02, ...,\n",
              "         -1.01867760e+02, -9.92138901e+01, -9.86204376e+01],\n",
              "        [ 6.10286865e+01,  6.59645386e+01,  7.07160721e+01, ...,\n",
              "          4.59985466e+01,  3.64512558e+01,  3.83327408e+01],\n",
              "        [-1.02836884e+02, -1.15482841e+02, -1.22463623e+02, ...,\n",
              "         -8.35589752e+01, -7.96009979e+01, -7.91546173e+01],\n",
              "        ...,\n",
              "        [ 2.14572096e+00,  1.81342959e+00,  2.70060515e+00, ...,\n",
              "          4.67875481e+00,  3.44546556e+00,  2.89140081e+00],\n",
              "        [ 5.46910286e+00,  3.16378498e+00,  3.02410364e+00, ...,\n",
              "         -1.90932155e+00, -7.06924021e-01,  2.63884962e-01],\n",
              "        [ 3.05366516e-01, -1.62541056e+00,  1.26699448e+00, ...,\n",
              "         -1.68870282e+00,  1.04248023e+00, -1.17674720e+00]],\n",
              "\n",
              "       [[-1.99943314e+02, -1.64953308e+02, -1.57899414e+02, ...,\n",
              "         -4.34202057e+02, -4.32246368e+02, -4.40599304e+02],\n",
              "        [ 6.76742859e+01,  6.57309113e+01,  6.63318787e+01, ...,\n",
              "          1.30783203e+02,  1.35290558e+02,  1.27514977e+02],\n",
              "        [ 9.29770291e-01, -7.03874826e-01, -1.58209682e+00, ...,\n",
              "         -1.61446953e+01, -1.10859823e+01, -1.12494731e+00],\n",
              "        ...,\n",
              "        [-1.71687317e+00, -7.73639202e-01,  1.88466167e+00, ...,\n",
              "          3.66212845e+00,  1.63778532e+00, -8.09258223e-02],\n",
              "        [-1.28610373e+00, -4.92384315e-01,  9.56139147e-01, ...,\n",
              "          2.12617326e+00,  4.34901571e+00,  7.16481972e+00],\n",
              "        [-2.49797273e+00, -3.75126719e-01, -1.88150358e+00, ...,\n",
              "         -1.10432696e+00,  1.30289507e+00,  2.08228159e+00]],\n",
              "\n",
              "       ...,\n",
              "\n",
              "       [[-4.60325745e+02, -4.39050690e+02, -4.45896088e+02, ...,\n",
              "         -4.74711395e+02, -4.80587555e+02, -4.98864288e+02],\n",
              "        [ 1.30158432e+02,  1.21364243e+02,  1.13948975e+02, ...,\n",
              "          1.07720428e+02,  1.03765381e+02,  1.04500839e+02],\n",
              "        [ 3.28411942e+01,  2.35726852e+01,  2.11846714e+01, ...,\n",
              "          2.91796799e+01,  2.38803062e+01,  2.38152695e+01],\n",
              "        ...,\n",
              "        [ 2.11978525e-01,  4.66779757e+00,  5.70723057e-01, ...,\n",
              "         -8.81775284e+00, -3.97785091e+00, -2.43518066e+00],\n",
              "        [ 4.71595001e+00,  2.87657070e+00,  2.19216511e-01, ...,\n",
              "         -2.60166359e+00, -3.05500507e-01,  1.57177591e+00],\n",
              "        [ 2.99694467e+00, -8.40475261e-02, -5.21994400e+00, ...,\n",
              "          1.36694860e+00,  2.30185986e+00,  1.70461798e+00]],\n",
              "\n",
              "       [[-9.23643341e+01, -7.62965240e+01, -8.58155975e+01, ...,\n",
              "         -5.74684387e+02, -5.74684387e+02, -5.74684387e+02],\n",
              "        [ 1.56508667e+02,  1.72481079e+02,  1.80243729e+02, ...,\n",
              "          0.00000000e+00,  0.00000000e+00,  0.00000000e+00],\n",
              "        [-1.13949280e+01, -1.94487076e+01, -1.27284288e+01, ...,\n",
              "          0.00000000e+00,  0.00000000e+00,  0.00000000e+00],\n",
              "        ...,\n",
              "        [ 2.04671335e+00, -5.97113180e+00, -4.23998356e+00, ...,\n",
              "          0.00000000e+00,  0.00000000e+00,  0.00000000e+00],\n",
              "        [ 2.55100775e+00, -1.79326034e+00, -2.72463727e+00, ...,\n",
              "          0.00000000e+00,  0.00000000e+00,  0.00000000e+00],\n",
              "        [ 2.21887660e+00,  7.18885124e-01, -4.66017842e-01, ...,\n",
              "          0.00000000e+00,  0.00000000e+00,  0.00000000e+00]],\n",
              "\n",
              "       [[-4.48372688e+01, -9.04002953e+00, -5.40151596e+00, ...,\n",
              "         -2.46933117e+01, -2.49466228e+01, -4.71800842e+01],\n",
              "        [ 1.02303104e+01,  2.16738281e+01,  2.51250687e+01, ...,\n",
              "          3.71283112e+01,  3.82292328e+01,  3.34634399e+01],\n",
              "        [-1.84637756e+01, -1.78253174e+01, -2.22601776e+01, ...,\n",
              "         -3.05442505e+01, -2.56069927e+01, -2.07222614e+01],\n",
              "        ...,\n",
              "        [ 3.50878859e+00,  8.84302974e-01,  1.09800410e+00, ...,\n",
              "          3.56639957e+00,  2.92591667e+00,  6.24996543e-01],\n",
              "        [ 3.75370407e+00,  2.12708187e+00,  3.54022682e-01, ...,\n",
              "         -2.76098847e-02,  1.80724764e+00,  2.90179968e+00],\n",
              "        [ 1.78601527e+00,  4.38466692e+00,  9.98230171e+00, ...,\n",
              "          5.19862413e+00,  5.92512608e-01, -3.74064183e+00]]],\n",
              "      dtype=float32)"
            ]
          },
          "execution_count": 139,
          "metadata": {},
          "output_type": "execute_result"
        }
      ],
      "source": [
        "X_train"
      ]
    },
    {
      "cell_type": "code",
      "execution_count": null,
      "metadata": {
        "id": "tgQSfVQ_RuF5",
        "outputId": "bd30a7a2-1a82-4412-84af-1e9abde241ba"
      },
      "outputs": [
        {
          "data": {
            "text/plain": [
              "(1600, 40, 216)"
            ]
          },
          "execution_count": 140,
          "metadata": {},
          "output_type": "execute_result"
        }
      ],
      "source": [
        "X_train.shape"
      ]
    },
    {
      "cell_type": "code",
      "execution_count": null,
      "metadata": {
        "id": "4zcP7Z2gRuF5",
        "outputId": "390f4813-5501-487d-b2cc-57ac2c2de1bd"
      },
      "outputs": [
        {
          "data": {
            "text/plain": [
              "(400, 40, 216)"
            ]
          },
          "execution_count": 141,
          "metadata": {},
          "output_type": "execute_result"
        }
      ],
      "source": [
        "X_test.shape"
      ]
    },
    {
      "cell_type": "code",
      "execution_count": null,
      "metadata": {
        "id": "Y39PoDalRuF6",
        "outputId": "9a49d5d2-d497-4cdb-8f25-aa736dd8a0f4"
      },
      "outputs": [
        {
          "data": {
            "text/plain": [
              "(1600, 50)"
            ]
          },
          "execution_count": 142,
          "metadata": {},
          "output_type": "execute_result"
        }
      ],
      "source": [
        "y_train.shape"
      ]
    },
    {
      "cell_type": "code",
      "execution_count": null,
      "metadata": {
        "id": "-9mjMmLVRuF7",
        "outputId": "c11946d3-c6fc-4957-cd7b-72c168cab362"
      },
      "outputs": [
        {
          "data": {
            "text/plain": [
              "(400, 50)"
            ]
          },
          "execution_count": 143,
          "metadata": {},
          "output_type": "execute_result"
        }
      ],
      "source": [
        "y_test.shape"
      ]
    },
    {
      "cell_type": "code",
      "execution_count": null,
      "metadata": {
        "id": "WiePnPoLRuF9"
      },
      "outputs": [],
      "source": [
        "X_train=np.reshape(X_train,(X_train.shape[0],40,216,1))\n",
        "X_test=np.reshape(X_test,(X_test.shape[0],40,216,1))"
      ]
    },
    {
      "cell_type": "code",
      "execution_count": null,
      "metadata": {
        "id": "Uc35HI_VRuF-",
        "outputId": "62d685ab-4a4d-4bda-9f51-6a27730cce9d"
      },
      "outputs": [
        {
          "data": {
            "text/plain": [
              "(1600, 40, 216, 1)"
            ]
          },
          "execution_count": 145,
          "metadata": {},
          "output_type": "execute_result"
        }
      ],
      "source": [
        "X_train.shape"
      ]
    },
    {
      "cell_type": "code",
      "execution_count": null,
      "metadata": {
        "id": "OSvsfYe4RuF-",
        "outputId": "66e33b70-7f17-4ee5-b3c6-bcd66a9fcaf7"
      },
      "outputs": [
        {
          "data": {
            "text/plain": [
              "(400, 40, 216, 1)"
            ]
          },
          "execution_count": 146,
          "metadata": {},
          "output_type": "execute_result"
        }
      ],
      "source": [
        "X_test.shape"
      ]
    },
    {
      "cell_type": "code",
      "execution_count": null,
      "metadata": {
        "id": "m1Ssce4MRuF_"
      },
      "outputs": [],
      "source": [
        "from tensorflow.keras.models import Sequential\n",
        "from tensorflow.keras.layers import Dense,Dropout,Activation,Flatten\n",
        "from tensorflow.keras.optimizers import Adam\n",
        "from sklearn import metrics"
      ]
    },
    {
      "cell_type": "code",
      "execution_count": null,
      "metadata": {
        "id": "d5gSUblZRuGA"
      },
      "outputs": [],
      "source": [
        "import tensorflow.keras.layers as layers\n",
        "import IPython.display as ipd"
      ]
    },
    {
      "cell_type": "code",
      "execution_count": null,
      "metadata": {
        "id": "eQgytDTORuGA"
      },
      "outputs": [],
      "source": [
        "INPUTSHAPE = (40,216,1)\n"
      ]
    },
    {
      "cell_type": "code",
      "execution_count": null,
      "metadata": {
        "id": "jdAFo68bRuGI"
      },
      "outputs": [],
      "source": [
        "num_labels=y.shape[1]\n"
      ]
    },
    {
      "cell_type": "code",
      "execution_count": null,
      "metadata": {
        "id": "c8hzUquoRuGL",
        "outputId": "519e64b2-11d3-4570-fe29-987fe1d90366"
      },
      "outputs": [
        {
          "name": "stdout",
          "output_type": "stream",
          "text": [
            "Model: \"sequential_6\"\n",
            "_________________________________________________________________\n",
            " Layer (type)                Output Shape              Param #   \n",
            "=================================================================\n",
            " conv2d_15 (Conv2D)          (None, 38, 214, 32)       320       \n",
            "                                                                 \n",
            " max_pooling2d_14 (MaxPoolin  (None, 19, 107, 32)      0         \n",
            " g2D)                                                            \n",
            "                                                                 \n",
            " conv2d_16 (Conv2D)          (None, 17, 105, 128)      36992     \n",
            "                                                                 \n",
            " max_pooling2d_15 (MaxPoolin  (None, 9, 53, 128)       0         \n",
            " g2D)                                                            \n",
            "                                                                 \n",
            " dropout_10 (Dropout)        (None, 9, 53, 128)        0         \n",
            "                                                                 \n",
            " conv2d_17 (Conv2D)          (None, 7, 51, 128)        147584    \n",
            "                                                                 \n",
            " max_pooling2d_16 (MaxPoolin  (None, 4, 26, 128)       0         \n",
            " g2D)                                                            \n",
            "                                                                 \n",
            " dropout_11 (Dropout)        (None, 4, 26, 128)        0         \n",
            "                                                                 \n",
            " global_average_pooling2d (G  (None, 128)              0         \n",
            " lobalAveragePooling2D)                                          \n",
            "                                                                 \n",
            " dense_26 (Dense)            (None, 512)               66048     \n",
            "                                                                 \n",
            " dense_27 (Dense)            (None, 50)                25650     \n",
            "                                                                 \n",
            "=================================================================\n",
            "Total params: 276,594\n",
            "Trainable params: 276,594\n",
            "Non-trainable params: 0\n",
            "_________________________________________________________________\n"
          ]
        }
      ],
      "source": [
        "model = Sequential([\n",
        "    \n",
        "                          layers.Conv2D(32 , (3,3),activation = 'relu',padding='valid', input_shape = INPUTSHAPE),  \n",
        "                          layers.MaxPooling2D(2, padding='same'),\n",
        "                          layers.Conv2D(128, (3,3), activation='relu',padding='valid'),\n",
        "                          layers.MaxPooling2D(2, padding='same'),\n",
        "                          layers.Dropout(0.3),\n",
        "                          layers.Conv2D(128, (3,3), activation='relu',padding='valid'),\n",
        "                          layers.MaxPooling2D(2, padding='same'),\n",
        "                          layers.Dropout(0.3),\n",
        "                          layers.GlobalAveragePooling2D(),\n",
        "                          layers.Dense(512 , activation = 'relu'),\n",
        "                          layers.Dense(50 , activation = 'softmax')\n",
        "])\n",
        "\n",
        "model.compile(loss = 'categorical_crossentropy', optimizer = 'adam', metrics = 'acc')\n",
        "model.summary()"
      ]
    },
    {
      "cell_type": "code",
      "execution_count": null,
      "metadata": {
        "id": "HkcUDHg9RuGQ"
      },
      "outputs": [],
      "source": [
        "import tensorflow as tf"
      ]
    },
    {
      "cell_type": "code",
      "execution_count": null,
      "metadata": {
        "id": "JEnlZ5z8RuGR",
        "outputId": "8b437537-36bb-4c0a-ed1f-35347db2e5b2"
      },
      "outputs": [
        {
          "name": "stdout",
          "output_type": "stream",
          "text": [
            "Epoch 1/40\n",
            "200/200 [==============================] - 34s 156ms/step - loss: 3.6328 - acc: 0.0644 - val_loss: 3.1331 - val_acc: 0.1225\n",
            "Epoch 2/40\n",
            "200/200 [==============================] - 28s 141ms/step - loss: 2.9274 - acc: 0.1713 - val_loss: 2.7137 - val_acc: 0.2300\n",
            "Epoch 3/40\n",
            "200/200 [==============================] - 27s 134ms/step - loss: 2.5115 - acc: 0.2781 - val_loss: 2.4299 - val_acc: 0.3025\n",
            "Epoch 4/40\n",
            "200/200 [==============================] - 28s 140ms/step - loss: 2.1614 - acc: 0.3725 - val_loss: 2.1169 - val_acc: 0.3950\n",
            "Epoch 5/40\n",
            "200/200 [==============================] - 21s 105ms/step - loss: 1.9466 - acc: 0.4156 - val_loss: 2.0669 - val_acc: 0.4225\n",
            "Epoch 6/40\n",
            "200/200 [==============================] - 22s 109ms/step - loss: 1.7556 - acc: 0.4688 - val_loss: 1.8981 - val_acc: 0.5000\n",
            "Epoch 7/40\n",
            "200/200 [==============================] - 21s 107ms/step - loss: 1.5527 - acc: 0.5125 - val_loss: 1.7473 - val_acc: 0.5275\n",
            "Epoch 8/40\n",
            "200/200 [==============================] - 21s 105ms/step - loss: 1.3881 - acc: 0.5631 - val_loss: 1.6015 - val_acc: 0.5600\n",
            "Epoch 9/40\n",
            "200/200 [==============================] - 21s 104ms/step - loss: 1.1550 - acc: 0.6519 - val_loss: 1.6044 - val_acc: 0.5750\n",
            "Epoch 10/40\n",
            "200/200 [==============================] - 22s 108ms/step - loss: 1.1201 - acc: 0.6500 - val_loss: 1.7092 - val_acc: 0.5375\n",
            "Epoch 11/40\n",
            "200/200 [==============================] - 22s 108ms/step - loss: 0.9828 - acc: 0.6913 - val_loss: 1.5272 - val_acc: 0.6025\n",
            "Epoch 12/40\n",
            "200/200 [==============================] - 21s 105ms/step - loss: 0.8088 - acc: 0.7337 - val_loss: 1.7394 - val_acc: 0.5700\n",
            "Epoch 13/40\n",
            "200/200 [==============================] - 20s 102ms/step - loss: 0.7205 - acc: 0.7700 - val_loss: 1.6671 - val_acc: 0.5875\n",
            "Epoch 14/40\n",
            "200/200 [==============================] - 21s 106ms/step - loss: 0.7280 - acc: 0.7638 - val_loss: 1.6366 - val_acc: 0.5925\n",
            "Epoch 15/40\n",
            "200/200 [==============================] - 21s 104ms/step - loss: 0.6100 - acc: 0.8050 - val_loss: 1.7255 - val_acc: 0.6275\n",
            "Epoch 16/40\n",
            "200/200 [==============================] - 21s 103ms/step - loss: 0.5124 - acc: 0.8375 - val_loss: 1.9385 - val_acc: 0.6050\n",
            "Epoch 17/40\n",
            "200/200 [==============================] - 22s 111ms/step - loss: 0.5362 - acc: 0.8206 - val_loss: 1.7056 - val_acc: 0.6650\n",
            "Epoch 18/40\n",
            "200/200 [==============================] - 21s 106ms/step - loss: 0.3833 - acc: 0.8712 - val_loss: 1.7257 - val_acc: 0.6625\n",
            "Epoch 19/40\n",
            "200/200 [==============================] - 21s 107ms/step - loss: 0.5771 - acc: 0.8206 - val_loss: 1.7773 - val_acc: 0.6075\n"
          ]
        }
      ],
      "source": [
        "batch_size = 8\n",
        "callback = tf.keras.callbacks.EarlyStopping(\n",
        "    monitor='val_loss', min_delta=0, patience=8, verbose=0, mode='auto',\n",
        "    baseline=None, restore_best_weights=False)\n",
        "#checkpointer = ModelCheckpoint(filepath='saved_models/audio_classification.hdf5', \n",
        "                             # verbose=1, save_best_only=True)\n",
        "history = model.fit(X_train,y_train ,validation_data=(X_test,y_test),\n",
        "            epochs=40,\n",
        "            callbacks = [callback],batch_size=batch_size)"
      ]
    },
    {
      "cell_type": "code",
      "execution_count": null,
      "metadata": {
        "id": "WjBGgzktRuGS",
        "outputId": "83b1f049-c9c0-49fa-9905-769760631eb4"
      },
      "outputs": [
        {
          "data": {
            "image/png": "[encoded data removed]",
            "text/plain": [
              "<Figure size 432x288 with 1 Axes>"
            ]
          },
          "metadata": {},
          "output_type": "display_data"
        },
        {
          "data": {
            "image/png": "[encoded data removed]",
            "text/plain": [
              "<Figure size 432x288 with 1 Axes>"
            ]
          },
          "metadata": {},
          "output_type": "display_data"
        }
      ],
      "source": [
        "import matplotlib.pyplot as plt\n",
        "plt.plot(history.history['acc'])\n",
        "plt.plot(history.history['val_acc'])\n",
        "plt.title('model accuracy')\n",
        "plt.ylabel('accuracy')\n",
        "plt.xlabel('epoch')\n",
        "plt.legend(['train', 'validation'], loc='upper left')\n",
        "plt.show()\n",
        "\n",
        "\n",
        "plt.plot(history.history['loss'])\n",
        "plt.plot(history.history['val_loss'])\n",
        "plt.title('model loss')\n",
        "plt.ylabel('loss')\n",
        "plt.xlabel('epoch')\n",
        "plt.legend(['train', 'validation'], loc='upper left')\n",
        "plt.show()"
      ]
    },
    {
      "cell_type": "code",
      "execution_count": null,
      "metadata": {
        "id": "JnC-c2j6RuGU"
      },
      "outputs": [],
      "source": [
        "# model=Sequential()\n",
        "# ###first layer\n",
        "# model.add(Dense(100,input_shape=(40,)))\n",
        "# model.add(Activation('relu'))\n",
        "# model.add(Dropout(0.5))\n",
        "# ###second layer\n",
        "# model.add(Dense(200))\n",
        "# model.add(Activation('relu'))\n",
        "# model.add(Dropout(0.5))\n",
        "# ###third layer\n",
        "# model.add(Dense(100))\n",
        "# model.add(Activation('relu'))\n",
        "# model.add(Dropout(0.5))\n",
        "\n",
        "# ###final layer\n",
        "# model.add(Dense(num_labels))\n",
        "# model.add(Activation('softmax'))"
      ]
    },
    {
      "cell_type": "code",
      "execution_count": null,
      "metadata": {
        "id": "cXkLeBXaRuGV",
        "outputId": "01a266d6-9a60-4c4d-9501-d960c5b3f0bb"
      },
      "outputs": [
        {
          "name": "stdout",
          "output_type": "stream",
          "text": [
            "0.6075000166893005\n"
          ]
        }
      ],
      "source": [
        "test_accuracy=model.evaluate(X_test,y_test,verbose=0)\n",
        "print(test_accuracy[1])"
      ]
    },
    {
      "cell_type": "code",
      "execution_count": null,
      "metadata": {
        "id": "hK2np6CoRuGX"
      },
      "outputs": [],
      "source": [
        "%load_ext tensorboard"
      ]
    },
    {
      "cell_type": "code",
      "execution_count": null,
      "metadata": {
        "id": "qhlh2YYpRuGY",
        "outputId": "8ece1590-e4d7-4244-e08c-63c0433eea45"
      },
      "outputs": [
        {
          "data": {
            "text/plain": [
              "ERROR: Timed out waiting for TensorBoard to start. It may still be running as pid 6824."
            ]
          },
          "metadata": {},
          "output_type": "display_data"
        }
      ],
      "source": [
        "%tensorboard --logdir=\"logs\""
      ]
    },
    {
      "cell_type": "code",
      "execution_count": null,
      "metadata": {
        "id": "ghEoxoEsRuGZ"
      },
      "outputs": [],
      "source": [
        "%matplotlib inline\n",
        "from sklearn.metrics import confusion_matrix\n",
        "import itertools\n",
        "import matplotlib.pyplot as plt"
      ]
    },
    {
      "cell_type": "code",
      "execution_count": null,
      "metadata": {
        "id": "nBunEf32RuGa",
        "outputId": "2f21ac26-49bc-49c1-9be3-840c0255baf1"
      },
      "outputs": [
        {
          "name": "stdout",
          "output_type": "stream",
          "text": [
            "13/13 [==============================] - 4s 115ms/step\n"
          ]
        }
      ],
      "source": [
        "y_pred=model.predict(X_test)"
      ]
    },
    {
      "cell_type": "code",
      "execution_count": null,
      "metadata": {
        "id": "qrfA2l73RuGb",
        "outputId": "4a81582b-747b-41a9-dcbb-5ed3ddb036f5"
      },
      "outputs": [
        {
          "data": {
            "text/plain": [
              "array([[0., 0., 0., ..., 0., 0., 0.],\n",
              "       [0., 0., 0., ..., 0., 0., 0.],\n",
              "       [0., 0., 0., ..., 0., 0., 0.],\n",
              "       ...,\n",
              "       [0., 0., 0., ..., 0., 0., 0.],\n",
              "       [0., 0., 0., ..., 0., 0., 0.],\n",
              "       [0., 0., 0., ..., 1., 0., 0.]])"
            ]
          },
          "execution_count": 166,
          "metadata": {},
          "output_type": "execute_result"
        }
      ],
      "source": [
        "y_test"
      ]
    },
    {
      "cell_type": "code",
      "execution_count": null,
      "metadata": {
        "id": "jCiz7wA6RuGc",
        "outputId": "bf5d66e1-c01a-4a54-8e9b-add61e42997a"
      },
      "outputs": [
        {
          "data": {
            "text/plain": [
              "array([[4.59375178e-06, 7.82737652e-10, 3.82884946e-06, ...,\n",
              "        9.86172566e-09, 2.87060887e-02, 4.21061372e-08],\n",
              "       [3.94195430e-02, 1.55461375e-02, 7.57725686e-02, ...,\n",
              "        6.11587097e-07, 3.25852237e-03, 9.82195023e-04],\n",
              "       [7.19776835e-06, 1.28243514e-07, 9.74185852e-08, ...,\n",
              "        1.62434684e-11, 5.96933987e-08, 2.05426454e-03],\n",
              "       ...,\n",
              "       [1.84568246e-15, 3.21575273e-18, 9.71754212e-14, ...,\n",
              "        8.73199625e-13, 5.21181221e-07, 2.67471645e-08],\n",
              "       [5.06745664e-07, 7.90808735e-06, 4.59946468e-02, ...,\n",
              "        5.60812559e-03, 1.18701082e-05, 1.29687920e-04],\n",
              "       [3.16758468e-12, 3.44340223e-34, 1.88195877e-15, ...,\n",
              "        1.21959537e-01, 3.57847583e-08, 1.19514537e-17]], dtype=float32)"
            ]
          },
          "execution_count": 167,
          "metadata": {},
          "output_type": "execute_result"
        }
      ],
      "source": [
        "y_pred"
      ]
    },
    {
      "cell_type": "code",
      "execution_count": null,
      "metadata": {
        "id": "i6ExTrtjRuGd"
      },
      "outputs": [],
      "source": [
        "round_off=np.round_(y_pred)"
      ]
    },
    {
      "cell_type": "code",
      "execution_count": null,
      "metadata": {
        "id": "7UOa7PSFRuG8",
        "outputId": "7a2ed77b-c960-488e-9480-42f55b8cd3ba"
      },
      "outputs": [
        {
          "data": {
            "text/plain": [
              "array([[0., 0., 0., ..., 0., 0., 0.],\n",
              "       [0., 0., 0., ..., 0., 0., 0.],\n",
              "       [0., 0., 0., ..., 0., 0., 0.],\n",
              "       ...,\n",
              "       [0., 0., 0., ..., 0., 0., 0.],\n",
              "       [0., 0., 0., ..., 0., 0., 0.],\n",
              "       [0., 0., 0., ..., 0., 0., 0.]], dtype=float32)"
            ]
          },
          "execution_count": 169,
          "metadata": {},
          "output_type": "execute_result"
        }
      ],
      "source": [
        "round_off"
      ]
    },
    {
      "cell_type": "code",
      "execution_count": null,
      "metadata": {
        "id": "2_3ZNVZsRuG_",
        "outputId": "e387b648-7875-4b51-e104-cb5c4b07bbe3"
      },
      "outputs": [
        {
          "name": "stdout",
          "output_type": "stream",
          "text": [
            "Confusion Matrix\n",
            "[[ 7  0  0 ...  0  0  0]\n",
            " [ 1  4  0 ...  0  0  0]\n",
            " [ 4  0  6 ...  0  0  0]\n",
            " ...\n",
            " [ 2  0  0 ...  4  0  0]\n",
            " [ 2  0  0 ...  0 12  0]\n",
            " [ 1  0  0 ...  0  0  2]]\n"
          ]
        },
        {
          "data": {
            "image/png": "[encoded data removed]",
            "text/plain": [
              "<Figure size 1440x1440 with 2 Axes>"
            ]
          },
          "metadata": {
            "needs_background": "light"
          },
          "output_type": "display_data"
        }
      ],
      "source": [
        "import seaborn as sns\n",
        "from sklearn.metrics import plot_confusion_matrix\n",
        "cm=confusion_matrix(y_test.argmax(axis=1),round_off.argmax(axis=1))\n",
        "print(\"Confusion Matrix\")\n",
        "print(cm)\n",
        "\n",
        "plt.figure(figsize=(20,20))\n",
        "sns.heatmap(cm,annot=True,fmt=\"d\",cmap='Set3')\n",
        "plt.title(\"Confusion Matrix\")\n",
        "plt.ylabel(\"True class\")\n",
        "plt.xlabel(\"Predicted class\")\n",
        "plt.show()"
      ]
    },
    {
      "cell_type": "code",
      "execution_count": null,
      "metadata": {
        "id": "PXm9eCyIRuHB"
      },
      "outputs": [],
      "source": []
    }
  ],
  "metadata": {
    "kernelspec": {
      "display_name": "Python 3",
      "language": "python",
      "name": "python3"
    },
    "language_info": {
      "codemirror_mode": {
        "name": "ipython",
        "version": 3
      },
      "file_extension": ".py",
      "mimetype": "text/x-python",
      "name": "python",
      "nbconvert_exporter": "python",
      "pygments_lexer": "ipython3",
      "version": "3.8.5"
    },
    "colab": {
      "provenance": []
    }
  },
  "nbformat": 4,
  "nbformat_minor": 0
}